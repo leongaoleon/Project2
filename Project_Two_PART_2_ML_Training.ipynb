{
 "cells": [
  {
   "cell_type": "markdown",
   "metadata": {},
   "source": [
    "# **Machine Learning Training**"
   ]
  },
  {
   "cell_type": "markdown",
   "metadata": {},
   "source": [
    "### Initial Imports:"
   ]
  },
  {
   "cell_type": "code",
   "execution_count": 1,
   "metadata": {},
   "outputs": [],
   "source": [
    "from pathlib import Path\n",
    "import numpy as np\n",
    "import pandas as pd\n",
    "pd.set_option(\"display.max_colwidth\", 300)\n",
    "\n",
    "from sklearn.ensemble import RandomForestClassifier\n",
    "from sklearn.ensemble import GradientBoostingClassifier\n",
    "\n",
    "from sklearn.metrics import confusion_matrix\n",
    "from sklearn.metrics import accuracy_score\n",
    "from sklearn.metrics import classification_report\n",
    "\n",
    "from joblib import dump, load # Save Pre-Trained Model Using Joblib\n",
    "import warnings\n",
    "warnings.filterwarnings('ignore')"
   ]
  },
  {
   "cell_type": "code",
   "execution_count": 2,
   "metadata": {},
   "outputs": [],
   "source": [
    "# Set Initial Random State\n",
    "from numpy.random import seed\n",
    "seed(1)\n",
    "from tensorflow import random\n",
    "random.set_seed(2)"
   ]
  },
  {
   "cell_type": "code",
   "execution_count": 3,
   "metadata": {},
   "outputs": [],
   "source": [
    "ticker = \"TSLA\""
   ]
  },
  {
   "cell_type": "markdown",
   "metadata": {},
   "source": [
    "#### Read in CSV as Pandas DataFrame:"
   ]
  },
  {
   "cell_type": "code",
   "execution_count": 4,
   "metadata": {},
   "outputs": [
    {
     "data": {
      "text/html": [
       "<div>\n",
       "<style scoped>\n",
       "    .dataframe tbody tr th:only-of-type {\n",
       "        vertical-align: middle;\n",
       "    }\n",
       "\n",
       "    .dataframe tbody tr th {\n",
       "        vertical-align: top;\n",
       "    }\n",
       "\n",
       "    .dataframe thead th {\n",
       "        text-align: right;\n",
       "    }\n",
       "</style>\n",
       "<table border=\"1\" class=\"dataframe\">\n",
       "  <thead>\n",
       "    <tr style=\"text-align: right;\">\n",
       "      <th></th>\n",
       "      <th>TSLA_Adj Close</th>\n",
       "      <th>TSLA_Volume</th>\n",
       "      <th>TSLA_Returns</th>\n",
       "      <th>ema_crossover_signal</th>\n",
       "      <th>vol_trend_signal</th>\n",
       "      <th>bollinger_signal</th>\n",
       "      <th>obv_crossover_signal</th>\n",
       "      <th>sentiment_signal</th>\n",
       "    </tr>\n",
       "    <tr>\n",
       "      <th>Date</th>\n",
       "      <th></th>\n",
       "      <th></th>\n",
       "      <th></th>\n",
       "      <th></th>\n",
       "      <th></th>\n",
       "      <th></th>\n",
       "      <th></th>\n",
       "      <th></th>\n",
       "    </tr>\n",
       "  </thead>\n",
       "  <tbody>\n",
       "    <tr>\n",
       "      <th>2019-01-02</th>\n",
       "      <td>62.023998</td>\n",
       "      <td>58293000.0</td>\n",
       "      <td>-0.068149</td>\n",
       "      <td>-1.0</td>\n",
       "      <td>0.0</td>\n",
       "      <td>0.0</td>\n",
       "      <td>-1.0</td>\n",
       "      <td>0.0</td>\n",
       "    </tr>\n",
       "    <tr>\n",
       "      <th>2019-01-03</th>\n",
       "      <td>60.071999</td>\n",
       "      <td>34826000.0</td>\n",
       "      <td>-0.031472</td>\n",
       "      <td>-1.0</td>\n",
       "      <td>1.0</td>\n",
       "      <td>0.0</td>\n",
       "      <td>-1.0</td>\n",
       "      <td>-1.0</td>\n",
       "    </tr>\n",
       "    <tr>\n",
       "      <th>2019-01-04</th>\n",
       "      <td>63.537998</td>\n",
       "      <td>36970500.0</td>\n",
       "      <td>0.057697</td>\n",
       "      <td>-1.0</td>\n",
       "      <td>1.0</td>\n",
       "      <td>0.0</td>\n",
       "      <td>-1.0</td>\n",
       "      <td>0.0</td>\n",
       "    </tr>\n",
       "    <tr>\n",
       "      <th>2019-01-07</th>\n",
       "      <td>66.991997</td>\n",
       "      <td>37756000.0</td>\n",
       "      <td>0.054361</td>\n",
       "      <td>1.0</td>\n",
       "      <td>-1.0</td>\n",
       "      <td>0.0</td>\n",
       "      <td>1.0</td>\n",
       "      <td>0.0</td>\n",
       "    </tr>\n",
       "    <tr>\n",
       "      <th>2019-01-08</th>\n",
       "      <td>67.070000</td>\n",
       "      <td>35042500.0</td>\n",
       "      <td>0.001164</td>\n",
       "      <td>1.0</td>\n",
       "      <td>1.0</td>\n",
       "      <td>0.0</td>\n",
       "      <td>1.0</td>\n",
       "      <td>0.0</td>\n",
       "    </tr>\n",
       "  </tbody>\n",
       "</table>\n",
       "</div>"
      ],
      "text/plain": [
       "            TSLA_Adj Close  TSLA_Volume  TSLA_Returns  ema_crossover_signal  \\\n",
       "Date                                                                          \n",
       "2019-01-02       62.023998   58293000.0     -0.068149                  -1.0   \n",
       "2019-01-03       60.071999   34826000.0     -0.031472                  -1.0   \n",
       "2019-01-04       63.537998   36970500.0      0.057697                  -1.0   \n",
       "2019-01-07       66.991997   37756000.0      0.054361                   1.0   \n",
       "2019-01-08       67.070000   35042500.0      0.001164                   1.0   \n",
       "\n",
       "            vol_trend_signal  bollinger_signal  obv_crossover_signal  \\\n",
       "Date                                                                   \n",
       "2019-01-02               0.0               0.0                  -1.0   \n",
       "2019-01-03               1.0               0.0                  -1.0   \n",
       "2019-01-04               1.0               0.0                  -1.0   \n",
       "2019-01-07              -1.0               0.0                   1.0   \n",
       "2019-01-08               1.0               0.0                   1.0   \n",
       "\n",
       "            sentiment_signal  \n",
       "Date                          \n",
       "2019-01-02               0.0  \n",
       "2019-01-03              -1.0  \n",
       "2019-01-04               0.0  \n",
       "2019-01-07               0.0  \n",
       "2019-01-08               0.0  "
      ]
     },
     "execution_count": 4,
     "metadata": {},
     "output_type": "execute_result"
    }
   ],
   "source": [
    "# Set path to CSV and read in CSV\n",
    "csv_path = Path('Returns and Signals.csv')\n",
    "return_signal_df=pd.read_csv(csv_path)\n",
    "# Set index as datetime object and drop extraneous columns\n",
    "return_signal_df.set_index(pd.to_datetime(return_signal_df['Date'], infer_datetime_format=True), inplace=True)\n",
    "return_signal_df.drop(columns=['Date'], inplace=True)\n",
    "return_signal_df.head()"
   ]
  },
  {
   "cell_type": "markdown",
   "metadata": {},
   "source": [
    "#### Check Data Quality:"
   ]
  },
  {
   "cell_type": "code",
   "execution_count": 5,
   "metadata": {},
   "outputs": [
    {
     "name": "stdout",
     "output_type": "stream",
     "text": [
      "<class 'pandas.core.frame.DataFrame'>\n",
      "DatetimeIndex: 504 entries, 2019-01-02 to 2020-12-30\n",
      "Data columns (total 8 columns):\n",
      "TSLA_Adj Close          504 non-null float64\n",
      "TSLA_Volume             504 non-null float64\n",
      "TSLA_Returns            504 non-null float64\n",
      "ema_crossover_signal    504 non-null float64\n",
      "vol_trend_signal        504 non-null float64\n",
      "bollinger_signal        504 non-null float64\n",
      "obv_crossover_signal    504 non-null float64\n",
      "sentiment_signal        504 non-null float64\n",
      "dtypes: float64(8)\n",
      "memory usage: 35.4 KB\n"
     ]
    }
   ],
   "source": [
    "return_signal_df.info()"
   ]
  },
  {
   "cell_type": "markdown",
   "metadata": {},
   "source": [
    "### Creating X and Dependent Variables:"
   ]
  },
  {
   "cell_type": "code",
   "execution_count": 6,
   "metadata": {},
   "outputs": [],
   "source": [
    "def variables(return_signal_df):\n",
    "    '''\n",
    "    this func takes in return_signal_df dataframe,\n",
    "    then shiting X variables down (to the future) by 1,\n",
    "    then constructing a new column for the dependent variable\n",
    "    return modified return_signal_df.\n",
    "    '''\n",
    "    # Set X Variables/Features \n",
    "    global x_var_list\n",
    "    x_var_list = ['ema_crossover_signal','vol_trend_signal','bollinger_signal','obv_crossover_signal','sentiment_signal'] # as a filter\n",
    "    # Shift 1 down as signals comes after prices \n",
    "    return_signal_df[x_var_list] = return_signal_df[x_var_list].shift(1)\n",
    "    # Construct the dependent variable where if daily return is greater than 0, then 1, else, 0.\n",
    "    return_signal_df['Positive Return'] = np.where(return_signal_df[f'{ticker}_Returns'] > 0, 1.0, 0.0)\n",
    "    return_signal_df.dropna(inplace=True)\n",
    "    return return_signal_df"
   ]
  },
  {
   "cell_type": "code",
   "execution_count": 7,
   "metadata": {},
   "outputs": [
    {
     "data": {
      "text/html": [
       "<div>\n",
       "<style scoped>\n",
       "    .dataframe tbody tr th:only-of-type {\n",
       "        vertical-align: middle;\n",
       "    }\n",
       "\n",
       "    .dataframe tbody tr th {\n",
       "        vertical-align: top;\n",
       "    }\n",
       "\n",
       "    .dataframe thead th {\n",
       "        text-align: right;\n",
       "    }\n",
       "</style>\n",
       "<table border=\"1\" class=\"dataframe\">\n",
       "  <thead>\n",
       "    <tr style=\"text-align: right;\">\n",
       "      <th></th>\n",
       "      <th>TSLA_Adj Close</th>\n",
       "      <th>TSLA_Volume</th>\n",
       "      <th>TSLA_Returns</th>\n",
       "      <th>ema_crossover_signal</th>\n",
       "      <th>vol_trend_signal</th>\n",
       "      <th>bollinger_signal</th>\n",
       "      <th>obv_crossover_signal</th>\n",
       "      <th>sentiment_signal</th>\n",
       "      <th>Positive Return</th>\n",
       "    </tr>\n",
       "    <tr>\n",
       "      <th>Date</th>\n",
       "      <th></th>\n",
       "      <th></th>\n",
       "      <th></th>\n",
       "      <th></th>\n",
       "      <th></th>\n",
       "      <th></th>\n",
       "      <th></th>\n",
       "      <th></th>\n",
       "      <th></th>\n",
       "    </tr>\n",
       "  </thead>\n",
       "  <tbody>\n",
       "    <tr>\n",
       "      <th>2019-01-03</th>\n",
       "      <td>60.071999</td>\n",
       "      <td>34826000.0</td>\n",
       "      <td>-0.031472</td>\n",
       "      <td>-1.0</td>\n",
       "      <td>0.0</td>\n",
       "      <td>0.0</td>\n",
       "      <td>-1.0</td>\n",
       "      <td>0.0</td>\n",
       "      <td>0.0</td>\n",
       "    </tr>\n",
       "    <tr>\n",
       "      <th>2019-01-04</th>\n",
       "      <td>63.537998</td>\n",
       "      <td>36970500.0</td>\n",
       "      <td>0.057697</td>\n",
       "      <td>-1.0</td>\n",
       "      <td>1.0</td>\n",
       "      <td>0.0</td>\n",
       "      <td>-1.0</td>\n",
       "      <td>-1.0</td>\n",
       "      <td>1.0</td>\n",
       "    </tr>\n",
       "    <tr>\n",
       "      <th>2019-01-07</th>\n",
       "      <td>66.991997</td>\n",
       "      <td>37756000.0</td>\n",
       "      <td>0.054361</td>\n",
       "      <td>-1.0</td>\n",
       "      <td>1.0</td>\n",
       "      <td>0.0</td>\n",
       "      <td>-1.0</td>\n",
       "      <td>0.0</td>\n",
       "      <td>1.0</td>\n",
       "    </tr>\n",
       "    <tr>\n",
       "      <th>2019-01-08</th>\n",
       "      <td>67.070000</td>\n",
       "      <td>35042500.0</td>\n",
       "      <td>0.001164</td>\n",
       "      <td>1.0</td>\n",
       "      <td>-1.0</td>\n",
       "      <td>0.0</td>\n",
       "      <td>1.0</td>\n",
       "      <td>0.0</td>\n",
       "      <td>1.0</td>\n",
       "    </tr>\n",
       "    <tr>\n",
       "      <th>2019-01-09</th>\n",
       "      <td>67.706001</td>\n",
       "      <td>27164500.0</td>\n",
       "      <td>0.009483</td>\n",
       "      <td>1.0</td>\n",
       "      <td>1.0</td>\n",
       "      <td>0.0</td>\n",
       "      <td>1.0</td>\n",
       "      <td>0.0</td>\n",
       "      <td>1.0</td>\n",
       "    </tr>\n",
       "  </tbody>\n",
       "</table>\n",
       "</div>"
      ],
      "text/plain": [
       "            TSLA_Adj Close  TSLA_Volume  TSLA_Returns  ema_crossover_signal  \\\n",
       "Date                                                                          \n",
       "2019-01-03       60.071999   34826000.0     -0.031472                  -1.0   \n",
       "2019-01-04       63.537998   36970500.0      0.057697                  -1.0   \n",
       "2019-01-07       66.991997   37756000.0      0.054361                  -1.0   \n",
       "2019-01-08       67.070000   35042500.0      0.001164                   1.0   \n",
       "2019-01-09       67.706001   27164500.0      0.009483                   1.0   \n",
       "\n",
       "            vol_trend_signal  bollinger_signal  obv_crossover_signal  \\\n",
       "Date                                                                   \n",
       "2019-01-03               0.0               0.0                  -1.0   \n",
       "2019-01-04               1.0               0.0                  -1.0   \n",
       "2019-01-07               1.0               0.0                  -1.0   \n",
       "2019-01-08              -1.0               0.0                   1.0   \n",
       "2019-01-09               1.0               0.0                   1.0   \n",
       "\n",
       "            sentiment_signal  Positive Return  \n",
       "Date                                           \n",
       "2019-01-03               0.0              0.0  \n",
       "2019-01-04              -1.0              1.0  \n",
       "2019-01-07               0.0              1.0  \n",
       "2019-01-08               0.0              1.0  \n",
       "2019-01-09               0.0              1.0  "
      ]
     },
     "execution_count": 7,
     "metadata": {},
     "output_type": "execute_result"
    }
   ],
   "source": [
    "return_signal_df_modified = variables(return_signal_df)\n",
    "return_signal_df_modified.head()"
   ]
  },
  {
   "cell_type": "markdown",
   "metadata": {},
   "source": [
    "### Separate X and Y Training Datasets:\n",
    "80% (training) 20% (testing) split"
   ]
  },
  {
   "cell_type": "code",
   "execution_count": 8,
   "metadata": {},
   "outputs": [],
   "source": [
    "def separate(return_signal_df_modified):\n",
    "    '''\n",
    "    thif func takes in return_signal_df_modified dataframe,\n",
    "    split the data into trian (80%) and test (20%),\n",
    "    then construct and return trian and test data sets for \n",
    "    the X and dependent variables.\n",
    "    '''\n",
    "    split = int(0.8 * len(return_signal_df_modified))\n",
    "    # X Variable\n",
    "    x_train = return_signal_df_modified[x_var_list][:split]\n",
    "    x_test = return_signal_df_modified[x_var_list][split:]\n",
    "    # Dependent Variable\n",
    "    y_train = return_signal_df_modified['Positive Return'][:split]\n",
    "    y_test = return_signal_df_modified['Positive Return'][split:]\n",
    "    return x_train, x_test, y_train, y_test"
   ]
  },
  {
   "cell_type": "code",
   "execution_count": 9,
   "metadata": {},
   "outputs": [],
   "source": [
    "x_train, x_test, y_train, y_test = separate(return_signal_df_modified)"
   ]
  },
  {
   "cell_type": "code",
   "execution_count": 10,
   "metadata": {},
   "outputs": [
    {
     "data": {
      "text/html": [
       "<div>\n",
       "<style scoped>\n",
       "    .dataframe tbody tr th:only-of-type {\n",
       "        vertical-align: middle;\n",
       "    }\n",
       "\n",
       "    .dataframe tbody tr th {\n",
       "        vertical-align: top;\n",
       "    }\n",
       "\n",
       "    .dataframe thead th {\n",
       "        text-align: right;\n",
       "    }\n",
       "</style>\n",
       "<table border=\"1\" class=\"dataframe\">\n",
       "  <thead>\n",
       "    <tr style=\"text-align: right;\">\n",
       "      <th></th>\n",
       "      <th>ema_crossover_signal</th>\n",
       "      <th>vol_trend_signal</th>\n",
       "      <th>bollinger_signal</th>\n",
       "      <th>obv_crossover_signal</th>\n",
       "      <th>sentiment_signal</th>\n",
       "    </tr>\n",
       "    <tr>\n",
       "      <th>Date</th>\n",
       "      <th></th>\n",
       "      <th></th>\n",
       "      <th></th>\n",
       "      <th></th>\n",
       "      <th></th>\n",
       "    </tr>\n",
       "  </thead>\n",
       "  <tbody>\n",
       "    <tr>\n",
       "      <th>2019-01-03</th>\n",
       "      <td>-1.0</td>\n",
       "      <td>0.0</td>\n",
       "      <td>0.0</td>\n",
       "      <td>-1.0</td>\n",
       "      <td>0.0</td>\n",
       "    </tr>\n",
       "    <tr>\n",
       "      <th>2019-01-04</th>\n",
       "      <td>-1.0</td>\n",
       "      <td>1.0</td>\n",
       "      <td>0.0</td>\n",
       "      <td>-1.0</td>\n",
       "      <td>-1.0</td>\n",
       "    </tr>\n",
       "  </tbody>\n",
       "</table>\n",
       "</div>"
      ],
      "text/plain": [
       "            ema_crossover_signal  vol_trend_signal  bollinger_signal  \\\n",
       "Date                                                                   \n",
       "2019-01-03                  -1.0               0.0               0.0   \n",
       "2019-01-04                  -1.0               1.0               0.0   \n",
       "\n",
       "            obv_crossover_signal  sentiment_signal  \n",
       "Date                                                \n",
       "2019-01-03                  -1.0               0.0  \n",
       "2019-01-04                  -1.0              -1.0  "
      ]
     },
     "execution_count": 10,
     "metadata": {},
     "output_type": "execute_result"
    }
   ],
   "source": [
    "x_train.head(2)"
   ]
  },
  {
   "cell_type": "code",
   "execution_count": 11,
   "metadata": {},
   "outputs": [
    {
     "data": {
      "text/html": [
       "<div>\n",
       "<style scoped>\n",
       "    .dataframe tbody tr th:only-of-type {\n",
       "        vertical-align: middle;\n",
       "    }\n",
       "\n",
       "    .dataframe tbody tr th {\n",
       "        vertical-align: top;\n",
       "    }\n",
       "\n",
       "    .dataframe thead th {\n",
       "        text-align: right;\n",
       "    }\n",
       "</style>\n",
       "<table border=\"1\" class=\"dataframe\">\n",
       "  <thead>\n",
       "    <tr style=\"text-align: right;\">\n",
       "      <th></th>\n",
       "      <th>ema_crossover_signal</th>\n",
       "      <th>vol_trend_signal</th>\n",
       "      <th>bollinger_signal</th>\n",
       "      <th>obv_crossover_signal</th>\n",
       "      <th>sentiment_signal</th>\n",
       "    </tr>\n",
       "    <tr>\n",
       "      <th>Date</th>\n",
       "      <th></th>\n",
       "      <th></th>\n",
       "      <th></th>\n",
       "      <th></th>\n",
       "      <th></th>\n",
       "    </tr>\n",
       "  </thead>\n",
       "  <tbody>\n",
       "    <tr>\n",
       "      <th>2020-08-07</th>\n",
       "      <td>1.0</td>\n",
       "      <td>1.0</td>\n",
       "      <td>0.0</td>\n",
       "      <td>1.0</td>\n",
       "      <td>0.0</td>\n",
       "    </tr>\n",
       "    <tr>\n",
       "      <th>2020-08-10</th>\n",
       "      <td>1.0</td>\n",
       "      <td>1.0</td>\n",
       "      <td>0.0</td>\n",
       "      <td>1.0</td>\n",
       "      <td>0.0</td>\n",
       "    </tr>\n",
       "  </tbody>\n",
       "</table>\n",
       "</div>"
      ],
      "text/plain": [
       "            ema_crossover_signal  vol_trend_signal  bollinger_signal  \\\n",
       "Date                                                                   \n",
       "2020-08-07                   1.0               1.0               0.0   \n",
       "2020-08-10                   1.0               1.0               0.0   \n",
       "\n",
       "            obv_crossover_signal  sentiment_signal  \n",
       "Date                                                \n",
       "2020-08-07                   1.0               0.0  \n",
       "2020-08-10                   1.0               0.0  "
      ]
     },
     "execution_count": 11,
     "metadata": {},
     "output_type": "execute_result"
    }
   ],
   "source": [
    "x_test.head(2)"
   ]
  },
  {
   "cell_type": "code",
   "execution_count": 12,
   "metadata": {},
   "outputs": [
    {
     "data": {
      "text/plain": [
       "Date\n",
       "2019-01-03    0.0\n",
       "2019-01-04    1.0\n",
       "Name: Positive Return, dtype: float64"
      ]
     },
     "execution_count": 12,
     "metadata": {},
     "output_type": "execute_result"
    }
   ],
   "source": [
    "y_train.head(2)"
   ]
  },
  {
   "cell_type": "code",
   "execution_count": 13,
   "metadata": {},
   "outputs": [
    {
     "data": {
      "text/plain": [
       "Date\n",
       "2020-08-07    0.0\n",
       "2020-08-10    0.0\n",
       "2020-08-11    0.0\n",
       "Name: Positive Return, dtype: float64"
      ]
     },
     "execution_count": 13,
     "metadata": {},
     "output_type": "execute_result"
    }
   ],
   "source": [
    "y_test.head(3)"
   ]
  },
  {
   "cell_type": "markdown",
   "metadata": {},
   "source": [
    "### Machine Learning Models Training:"
   ]
  },
  {
   "cell_type": "markdown",
   "metadata": {},
   "source": [
    "#### 1. Random Forest Model:"
   ]
  },
  {
   "cell_type": "markdown",
   "metadata": {},
   "source": [
    "**Hyperparameters:**"
   ]
  },
  {
   "cell_type": "code",
   "execution_count": 14,
   "metadata": {},
   "outputs": [],
   "source": [
    "# 100 trees and 3 steps\n",
    "n_estimators=100\n",
    "max_depth=3"
   ]
  },
  {
   "cell_type": "code",
   "execution_count": 15,
   "metadata": {},
   "outputs": [],
   "source": [
    "def RandomForest(x_train, y_train, x_test, y_test):\n",
    "    '''\n",
    "    thif func takes in x_train, y_train, x_test, y_test,\n",
    "    runing Random Forest Classification model,\n",
    "    return a dataframe which contains actual vs. predicted y data,\n",
    "    print accuracy score for traning and testing,\n",
    "    print the classification report for the test data,\n",
    "    and save the model by using Joblib.\n",
    "    '''\n",
    "    # Fit the model using just the training set:\n",
    "    model = RandomForestClassifier(n_estimators=n_estimators, max_depth=max_depth, random_state=0)\n",
    "    model.fit(x_train, y_train)\n",
    "    # Make a prediction of \"y\" values from the x test dataset\n",
    "    predictions = model.predict(x_test)\n",
    "    # Assemble actual y data (Y_test) with predicted y data (from just above) into two columns in a dataframe:\n",
    "    result = y_test.to_frame()\n",
    "    result[\"Predicted Value\"] = predictions\n",
    "    # Save the pre-trained model\n",
    "    dump(model, 'random_forest_model.joblib')\n",
    "    # Print performance metrics:\n",
    "    print(\"Accuracy score (training): {0:.3f}\".format(model.score(x_train,y_train)))\n",
    "    print(\"Accuracy score (testing): {0:.3f}\".format(model.score(x_test,y_test)))\n",
    "    print(\" \")\n",
    "    print(\"Classification Report for the test data:\")\n",
    "    print(classification_report(y_test, predictions))\n",
    "    return result"
   ]
  },
  {
   "cell_type": "code",
   "execution_count": 16,
   "metadata": {},
   "outputs": [
    {
     "name": "stdout",
     "output_type": "stream",
     "text": [
      "Accuracy score (training): 0.595\n",
      "Accuracy score (testing): 0.584\n",
      " \n",
      "Classification Report for the test data:\n",
      "              precision    recall  f1-score   support\n",
      "\n",
      "         0.0       0.33      0.02      0.05        41\n",
      "         1.0       0.59      0.97      0.73        60\n",
      "\n",
      "    accuracy                           0.58       101\n",
      "   macro avg       0.46      0.50      0.39       101\n",
      "weighted avg       0.49      0.58      0.45       101\n",
      "\n"
     ]
    },
    {
     "data": {
      "text/html": [
       "<div>\n",
       "<style scoped>\n",
       "    .dataframe tbody tr th:only-of-type {\n",
       "        vertical-align: middle;\n",
       "    }\n",
       "\n",
       "    .dataframe tbody tr th {\n",
       "        vertical-align: top;\n",
       "    }\n",
       "\n",
       "    .dataframe thead th {\n",
       "        text-align: right;\n",
       "    }\n",
       "</style>\n",
       "<table border=\"1\" class=\"dataframe\">\n",
       "  <thead>\n",
       "    <tr style=\"text-align: right;\">\n",
       "      <th></th>\n",
       "      <th>Positive Return</th>\n",
       "      <th>Predicted Value</th>\n",
       "    </tr>\n",
       "    <tr>\n",
       "      <th>Date</th>\n",
       "      <th></th>\n",
       "      <th></th>\n",
       "    </tr>\n",
       "  </thead>\n",
       "  <tbody>\n",
       "    <tr>\n",
       "      <th>2020-08-07</th>\n",
       "      <td>0.0</td>\n",
       "      <td>1.0</td>\n",
       "    </tr>\n",
       "    <tr>\n",
       "      <th>2020-08-10</th>\n",
       "      <td>0.0</td>\n",
       "      <td>1.0</td>\n",
       "    </tr>\n",
       "    <tr>\n",
       "      <th>2020-08-11</th>\n",
       "      <td>0.0</td>\n",
       "      <td>1.0</td>\n",
       "    </tr>\n",
       "    <tr>\n",
       "      <th>2020-08-12</th>\n",
       "      <td>1.0</td>\n",
       "      <td>1.0</td>\n",
       "    </tr>\n",
       "    <tr>\n",
       "      <th>2020-08-13</th>\n",
       "      <td>1.0</td>\n",
       "      <td>1.0</td>\n",
       "    </tr>\n",
       "  </tbody>\n",
       "</table>\n",
       "</div>"
      ],
      "text/plain": [
       "            Positive Return  Predicted Value\n",
       "Date                                        \n",
       "2020-08-07              0.0              1.0\n",
       "2020-08-10              0.0              1.0\n",
       "2020-08-11              0.0              1.0\n",
       "2020-08-12              1.0              1.0\n",
       "2020-08-13              1.0              1.0"
      ]
     },
     "execution_count": 16,
     "metadata": {},
     "output_type": "execute_result"
    }
   ],
   "source": [
    "rf_result = RandomForest(x_train, y_train, x_test, y_test)\n",
    "rf_result.head()"
   ]
  },
  {
   "cell_type": "markdown",
   "metadata": {},
   "source": [
    "#### 2. Gradient Boosting Model:"
   ]
  },
  {
   "cell_type": "markdown",
   "metadata": {},
   "source": [
    "**Hyperparameters:**"
   ]
  },
  {
   "cell_type": "code",
   "execution_count": 17,
   "metadata": {},
   "outputs": [],
   "source": [
    "# small learning rate means each tree learns a little from previous tree, \n",
    "# and learn more information from the new data.\n",
    "learning_rate=0.75\n",
    "n_estimators=20\n",
    "max_features=5\n",
    "max_depth=3"
   ]
  },
  {
   "cell_type": "code",
   "execution_count": 18,
   "metadata": {},
   "outputs": [],
   "source": [
    "def GradientBoost():\n",
    "    '''\n",
    "    thif func takes in x_train, y_train, x_test, y_test,\n",
    "    runing Gradient Boost Trees Classification model,\n",
    "    return a dataframe which contains actual vs. predicted y data,\n",
    "    print accuracy score for traning and testing,\n",
    "    print the classification report for the test data,\n",
    "    and save the model by using Joblib.\n",
    "    '''\n",
    "    # Fit the model using just the training set:\n",
    "    model = GradientBoostingClassifier(n_estimators=n_estimators,\n",
    "                                        learning_rate=learning_rate,\n",
    "                                        max_features=max_features,\n",
    "                                        max_depth=max_depth,\n",
    "                                        random_state=0)\n",
    "    model.fit(x_train, y_train)\n",
    "    # Make a prediction of \"y\" values from the x test dataset\n",
    "    predictions = model.predict(x_test)   \n",
    "    \n",
    "    # Assemble actual y data (Y_test) with predicted y data (from just above) into two columns in a dataframe:\n",
    "    result = y_test.to_frame()\n",
    "    result[\"Predicted Value\"] = predictions\n",
    "    \n",
    "    # Save the pre-trained model\n",
    "    dump(model, 'gradient_boost_model.joblib')\n",
    "    # Print performance metrics:\n",
    "    print(\"Accuracy score (training): {0:.3f}\".format(model.score(x_train,y_train)))\n",
    "    print(\"Accuracy score (testing): {0:.3f}\".format(model.score(x_test,y_test)))\n",
    "    print(\" \")\n",
    "    print(\"Classification Report for the test data:\")\n",
    "    print(classification_report(y_test, predictions))\n",
    "    \n",
    "    return result"
   ]
  },
  {
   "cell_type": "code",
   "execution_count": 19,
   "metadata": {},
   "outputs": [
    {
     "name": "stdout",
     "output_type": "stream",
     "text": [
      "Accuracy score (training): 0.602\n",
      "Accuracy score (testing): 0.584\n",
      " \n",
      "Classification Report for the test data:\n",
      "              precision    recall  f1-score   support\n",
      "\n",
      "         0.0       0.33      0.02      0.05        41\n",
      "         1.0       0.59      0.97      0.73        60\n",
      "\n",
      "    accuracy                           0.58       101\n",
      "   macro avg       0.46      0.50      0.39       101\n",
      "weighted avg       0.49      0.58      0.45       101\n",
      "\n"
     ]
    },
    {
     "data": {
      "text/html": [
       "<div>\n",
       "<style scoped>\n",
       "    .dataframe tbody tr th:only-of-type {\n",
       "        vertical-align: middle;\n",
       "    }\n",
       "\n",
       "    .dataframe tbody tr th {\n",
       "        vertical-align: top;\n",
       "    }\n",
       "\n",
       "    .dataframe thead th {\n",
       "        text-align: right;\n",
       "    }\n",
       "</style>\n",
       "<table border=\"1\" class=\"dataframe\">\n",
       "  <thead>\n",
       "    <tr style=\"text-align: right;\">\n",
       "      <th></th>\n",
       "      <th>Positive Return</th>\n",
       "      <th>Predicted Value</th>\n",
       "    </tr>\n",
       "    <tr>\n",
       "      <th>Date</th>\n",
       "      <th></th>\n",
       "      <th></th>\n",
       "    </tr>\n",
       "  </thead>\n",
       "  <tbody>\n",
       "    <tr>\n",
       "      <th>2020-08-07</th>\n",
       "      <td>0.0</td>\n",
       "      <td>1.0</td>\n",
       "    </tr>\n",
       "    <tr>\n",
       "      <th>2020-08-10</th>\n",
       "      <td>0.0</td>\n",
       "      <td>1.0</td>\n",
       "    </tr>\n",
       "    <tr>\n",
       "      <th>2020-08-11</th>\n",
       "      <td>0.0</td>\n",
       "      <td>1.0</td>\n",
       "    </tr>\n",
       "    <tr>\n",
       "      <th>2020-08-12</th>\n",
       "      <td>1.0</td>\n",
       "      <td>1.0</td>\n",
       "    </tr>\n",
       "    <tr>\n",
       "      <th>2020-08-13</th>\n",
       "      <td>1.0</td>\n",
       "      <td>1.0</td>\n",
       "    </tr>\n",
       "  </tbody>\n",
       "</table>\n",
       "</div>"
      ],
      "text/plain": [
       "            Positive Return  Predicted Value\n",
       "Date                                        \n",
       "2020-08-07              0.0              1.0\n",
       "2020-08-10              0.0              1.0\n",
       "2020-08-11              0.0              1.0\n",
       "2020-08-12              1.0              1.0\n",
       "2020-08-13              1.0              1.0"
      ]
     },
     "execution_count": 19,
     "metadata": {},
     "output_type": "execute_result"
    }
   ],
   "source": [
    "gb_result = GradientBoost()\n",
    "gb_result.head()"
   ]
  },
  {
   "cell_type": "code",
   "execution_count": null,
   "metadata": {},
   "outputs": [],
   "source": []
  },
  {
   "cell_type": "code",
   "execution_count": null,
   "metadata": {},
   "outputs": [],
   "source": []
  },
  {
   "cell_type": "code",
   "execution_count": null,
   "metadata": {},
   "outputs": [],
   "source": []
  },
  {
   "cell_type": "code",
   "execution_count": null,
   "metadata": {},
   "outputs": [],
   "source": []
  },
  {
   "cell_type": "code",
   "execution_count": null,
   "metadata": {},
   "outputs": [],
   "source": []
  },
  {
   "cell_type": "code",
   "execution_count": null,
   "metadata": {},
   "outputs": [],
   "source": []
  },
  {
   "cell_type": "code",
   "execution_count": null,
   "metadata": {},
   "outputs": [],
   "source": []
  },
  {
   "cell_type": "code",
   "execution_count": null,
   "metadata": {},
   "outputs": [],
   "source": []
  },
  {
   "cell_type": "code",
   "execution_count": null,
   "metadata": {},
   "outputs": [],
   "source": []
  }
 ],
 "metadata": {
  "kernelspec": {
   "display_name": "Python [conda env:monenv] *",
   "language": "python",
   "name": "conda-env-monenv-py"
  },
  "language_info": {
   "codemirror_mode": {
    "name": "ipython",
    "version": 3
   },
   "file_extension": ".py",
   "mimetype": "text/x-python",
   "name": "python",
   "nbconvert_exporter": "python",
   "pygments_lexer": "ipython3",
   "version": "3.7.9"
  }
 },
 "nbformat": 4,
 "nbformat_minor": 4
}
